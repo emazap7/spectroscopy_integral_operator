{
 "cells": [
  {
   "cell_type": "code",
   "execution_count": null,
   "id": "ecb61249-9943-46b1-852b-01eea9dbd12f",
   "metadata": {},
   "outputs": [],
   "source": [
    "import math\n",
    "import numpy as np\n",
    "from IPython.display import clear_output\n",
    "from tqdm import tqdm_notebook as tqdm\n",
    "\n",
    "import matplotlib as mpl\n",
    "import matplotlib.pyplot as plt\n",
    "\n",
    "import seaborn as sns\n",
    "\n",
    "import matplotlib as mpl\n",
    "import matplotlib.cm as cm\n",
    "\n",
    "import torch\n",
    "from torch import Tensor\n",
    "from torch import nn\n",
    "from torch.nn  import functional as F\n",
    "from torch.autograd import Variable\n",
    "import random\n",
    "import torchvision\n",
    "import torchvision.transforms as transforms\n",
    "from source.utils import Class_Dataset\n",
    "from tqdm import tqdm\n",
    "from source.neural_integral_operator import integral_operator\n",
    "from source.models import G_global\n",
    "from source.integrators import MonteCarlo\n",
    "\n",
    "use_cuda = torch.cuda.is_available()"
   ]
  },
  {
   "cell_type": "code",
   "execution_count": null,
   "id": "72269576-81d7-435b-8db7-4574d726dd9e",
   "metadata": {},
   "outputs": [],
   "source": []
  },
  {
   "cell_type": "code",
   "execution_count": null,
   "id": "466ab947-e3ed-479b-bee6-3ad92de280c9",
   "metadata": {},
   "outputs": [],
   "source": []
  },
  {
   "cell_type": "code",
   "execution_count": null,
   "id": "2d93a594-c25a-4d9f-bd1a-f2275057e804",
   "metadata": {},
   "outputs": [],
   "source": [
    "if torch.cuda.is_available():  \n",
    "    device = \"cuda:0\" \n",
    "else:  \n",
    "    device = \"cpu\""
   ]
  },
  {
   "cell_type": "code",
   "execution_count": null,
   "id": "5a00aaac-1cc7-4ae5-9725-e97f758722a5",
   "metadata": {},
   "outputs": [],
   "source": []
  },
  {
   "cell_type": "code",
   "execution_count": null,
   "id": "fcce84e5-a2ff-4df1-93f2-8110f16224e8",
   "metadata": {},
   "outputs": [],
   "source": [
    "dim = 3\n",
    "batch_size = 4\n",
    "mc = MonteCarlo()\n",
    "mc_samplings=2000\n",
    "enc_dim = 8"
   ]
  },
  {
   "cell_type": "code",
   "execution_count": null,
   "id": "51b87d81-30b3-4621-a24f-5885ee445c25",
   "metadata": {},
   "outputs": [],
   "source": []
  },
  {
   "cell_type": "code",
   "execution_count": null,
   "id": "72e48473-67b0-4fab-9b5b-4c2bf2dff9b9",
   "metadata": {},
   "outputs": [],
   "source": [
    "encoder = torch.nn.Conv1d(\n",
    "    1,\n",
    "    enc_dim+1,\n",
    "    [16],\n",
    "    stride=8,\n",
    "    ).to(device)"
   ]
  },
  {
   "cell_type": "code",
   "execution_count": null,
   "id": "a1f452c4-6ec1-4b64-837f-cea2c2dd5fe3",
   "metadata": {},
   "outputs": [],
   "source": [
    "shapes = encoder(torch.rand(batch_size,400,1).permute(0,2,1).to(device)).shape"
   ]
  },
  {
   "cell_type": "code",
   "execution_count": null,
   "id": "4f123902-a7e4-4169-b79f-d8f00151222a",
   "metadata": {},
   "outputs": [],
   "source": [
    "shapes"
   ]
  },
  {
   "cell_type": "code",
   "execution_count": null,
   "id": "a6bf201f-ca66-4343-99bb-76f1a1992961",
   "metadata": {},
   "outputs": [],
   "source": [
    "times = torch.linspace(0,1,shapes[2]).to(device)"
   ]
  },
  {
   "cell_type": "code",
   "execution_count": null,
   "id": "48847b65-a93b-4ebd-a3d4-14573bbf8b13",
   "metadata": {},
   "outputs": [],
   "source": [
    "G = G_global(enc_dim,dim,[16,16]).to(device)"
   ]
  },
  {
   "cell_type": "code",
   "execution_count": null,
   "id": "e298d575-ac41-41cd-bcd4-47f6cefb17e9",
   "metadata": {},
   "outputs": [],
   "source": [
    "model = integral_operator(dim, times, G, mc, num_internal_points=times.shape[0],mc_samplings=mc_samplings).to(device)"
   ]
  },
  {
   "cell_type": "code",
   "execution_count": null,
   "id": "719a0942-0a88-4889-b170-79f13b6002de",
   "metadata": {
    "jupyter": {
     "source_hidden": true
    }
   },
   "outputs": [],
   "source": []
  },
  {
   "cell_type": "code",
   "execution_count": null,
   "id": "e96a4db6-b22e-4c57-9ffa-a465d29362dd",
   "metadata": {},
   "outputs": [],
   "source": []
  },
  {
   "cell_type": "code",
   "execution_count": null,
   "id": "d5214848-bd35-4734-960e-fa27c4e0e0cd",
   "metadata": {},
   "outputs": [],
   "source": [
    "import mat73"
   ]
  },
  {
   "cell_type": "code",
   "execution_count": null,
   "id": "208c75b8-0dcf-4621-8996-1b6105a417c7",
   "metadata": {},
   "outputs": [],
   "source": [
    "X = mat73.loadmat('XMeatData.mat')"
   ]
  },
  {
   "cell_type": "code",
   "execution_count": null,
   "id": "05b40db1-0b03-4bad-af23-52120d27b342",
   "metadata": {
    "scrolled": true
   },
   "outputs": [],
   "source": [
    "X"
   ]
  },
  {
   "cell_type": "code",
   "execution_count": null,
   "id": "4a937c2e-2863-4fa4-8112-775f3ed6be40",
   "metadata": {},
   "outputs": [],
   "source": [
    "XCA, XCB, XPA, XPB, XTA, XTB = torch.from_numpy(X['XChickenA']).unsqueeze(-1), torch.from_numpy(X['XChickenB']).unsqueeze(-1), torch.from_numpy(X['XPorkA']).unsqueeze(-1), torch.from_numpy(X['XPorkB']).unsqueeze(-1), torch.from_numpy(X['XTurkeyA']).unsqueeze(-1), torch.from_numpy(X['XTurkeyB']).unsqueeze(-1)"
   ]
  },
  {
   "cell_type": "code",
   "execution_count": null,
   "id": "98b58e49-6944-4b08-98f8-569891096c20",
   "metadata": {},
   "outputs": [],
   "source": [
    "XCA.shape, XCB.shape, XPA.shape, XPB.shape, XTA.shape, XTB.shape"
   ]
  },
  {
   "cell_type": "code",
   "execution_count": null,
   "id": "4183808f-2103-458b-9b20-036417d8f9ab",
   "metadata": {},
   "outputs": [],
   "source": []
  },
  {
   "cell_type": "code",
   "execution_count": null,
   "id": "90380830-f023-4315-8aa9-d964ca7c8a8e",
   "metadata": {},
   "outputs": [],
   "source": [
    "Data = torch.cat([XCA, XCB, XPA, XPB, XTA, XTB], dim=0).to(device)"
   ]
  },
  {
   "cell_type": "code",
   "execution_count": null,
   "id": "4d3f10d2-7a57-4eb5-96d5-7f3cd050d695",
   "metadata": {},
   "outputs": [],
   "source": [
    "Data.shape"
   ]
  },
  {
   "cell_type": "code",
   "execution_count": null,
   "id": "b3f67265-c6e9-492f-8754-c159b37fe68f",
   "metadata": {},
   "outputs": [],
   "source": [
    "Data = Data[:,:400,:]"
   ]
  },
  {
   "cell_type": "code",
   "execution_count": null,
   "id": "ed325efe-ecb7-4458-836b-4263d6459e84",
   "metadata": {},
   "outputs": [],
   "source": [
    "#Data = torch.nn.functional.normalize(Data,p=1053)"
   ]
  },
  {
   "cell_type": "code",
   "execution_count": null,
   "id": "46469b1d-7b01-42d6-a16f-efbb64472c6d",
   "metadata": {},
   "outputs": [],
   "source": [
    "# mean = Data.mean(dim=0)\n",
    "# std = Data.std(dim=0)\n",
    "\n",
    "# # Standardize the data\n",
    "# standardized_data = (Data - mean) / std"
   ]
  },
  {
   "cell_type": "code",
   "execution_count": null,
   "id": "06c7d2d7-4601-4002-8861-1f38fde914a7",
   "metadata": {},
   "outputs": [],
   "source": [
    "# Calculate min and max for each feature\n",
    "data_min = Data.min(dim=0)[0]\n",
    "data_max = Data.max(dim=0)[0]\n",
    "\n",
    "# Min-Max Scaling\n",
    "Data = (Data - data_min) / (data_max - data_min)"
   ]
  },
  {
   "cell_type": "code",
   "execution_count": null,
   "id": "977d4fde-f5d6-4ed1-b088-b5912d08782b",
   "metadata": {},
   "outputs": [],
   "source": []
  },
  {
   "cell_type": "code",
   "execution_count": null,
   "id": "0e8ef78d-10ac-437b-8dd0-f245ac844991",
   "metadata": {
    "scrolled": true
   },
   "outputs": [],
   "source": [
    "#Visualize\n",
    "for i in range(Data.shape[0]):\n",
    "    plt.plot(Data[i,:,0].cpu())\n",
    "    plt.show"
   ]
  },
  {
   "cell_type": "code",
   "execution_count": null,
   "id": "5cef76a0-c25b-41dc-bd8b-a0f7787a846a",
   "metadata": {},
   "outputs": [],
   "source": [
    "y.shape"
   ]
  },
  {
   "cell_type": "code",
   "execution_count": null,
   "id": "12ba1035-7dcd-4302-a10a-6f2c22480997",
   "metadata": {},
   "outputs": [],
   "source": []
  },
  {
   "cell_type": "code",
   "execution_count": null,
   "id": "d3563236-90cb-4193-a88e-0d4d2829074c",
   "metadata": {},
   "outputs": [],
   "source": [
    "Data.shape"
   ]
  },
  {
   "cell_type": "code",
   "execution_count": null,
   "id": "f4e36da6-120f-4051-855b-2d399d5fc5a4",
   "metadata": {},
   "outputs": [],
   "source": []
  },
  {
   "cell_type": "code",
   "execution_count": null,
   "id": "4a7cc823-940c-4e46-9a64-25ac98c4e99e",
   "metadata": {},
   "outputs": [],
   "source": []
  },
  {
   "cell_type": "code",
   "execution_count": null,
   "id": "77d8ba12-5b15-4d12-a235-2f90fe5f8465",
   "metadata": {},
   "outputs": [],
   "source": [
    "ClsC, ClsP, ClsT = torch.zeros(40,1), torch.zeros(40,1)+1, torch.zeros(40,1)+2"
   ]
  },
  {
   "cell_type": "code",
   "execution_count": null,
   "id": "19ce2c76-7315-4e48-a46f-cb427e938d90",
   "metadata": {},
   "outputs": [],
   "source": [
    "Cls = torch.cat([ClsC, ClsP, ClsT]).to(device)"
   ]
  },
  {
   "cell_type": "code",
   "execution_count": null,
   "id": "b425bcd2-fc7e-42ff-886c-c0ca9b1ec735",
   "metadata": {},
   "outputs": [],
   "source": []
  },
  {
   "cell_type": "code",
   "execution_count": null,
   "id": "5cad5cbb-9c60-409c-8724-8f12aa22dd6f",
   "metadata": {},
   "outputs": [],
   "source": []
  },
  {
   "cell_type": "code",
   "execution_count": null,
   "id": "977f0bae-95d1-4c90-9d52-fd8297bccd7c",
   "metadata": {},
   "outputs": [],
   "source": [
    "permutation = torch.randperm(Data.shape[0])\n",
    "print(permutation)"
   ]
  },
  {
   "cell_type": "code",
   "execution_count": null,
   "id": "7605bf51-068d-4657-890e-8c09f4935bb1",
   "metadata": {},
   "outputs": [],
   "source": [
    "Data = Data[permutation,...]\n",
    "Cls = Cls[permutation,...]"
   ]
  },
  {
   "cell_type": "code",
   "execution_count": null,
   "id": "2666f047-a086-45ff-83c4-2a3b00a821e4",
   "metadata": {},
   "outputs": [],
   "source": [
    "Data_train = Data[:-40,...].to(device)\n",
    "Cls_train = Cls[:-40,...].to(device)\n",
    "Data_val = Data[-40:-20,...].to(device)\n",
    "Cls_val = Cls[-40:-20,...].to(device)\n",
    "    \n",
    "Data_test = Data[-20:,...].to(device)\n",
    "Cls_test = Cls[-20:,...].to(device)"
   ]
  },
  {
   "cell_type": "code",
   "execution_count": null,
   "id": "93e46a69-9ac4-458f-910b-9590f2e51103",
   "metadata": {},
   "outputs": [],
   "source": [
    "Cls_train = Cls_train.type(torch.LongTensor).squeeze()\n",
    "Cls_val = Cls_val.type(torch.LongTensor).squeeze()\n",
    "Cls_test = Cls_test.type(torch.LongTensor).squeeze()"
   ]
  },
  {
   "cell_type": "code",
   "execution_count": null,
   "id": "94949d4a-96d3-4e4f-9af2-876448f2e9cc",
   "metadata": {},
   "outputs": [],
   "source": []
  },
  {
   "cell_type": "code",
   "execution_count": null,
   "id": "4c12a8cc-b785-4832-a673-4e4500f129a0",
   "metadata": {},
   "outputs": [],
   "source": []
  },
  {
   "cell_type": "code",
   "execution_count": null,
   "id": "701fa277-f1fc-4186-aa52-cb77eff47d9d",
   "metadata": {},
   "outputs": [],
   "source": [
    "\n",
    "train_loader = torch.utils.data.DataLoader(\n",
    "                                   Class_Dataset(Data_train, Cls_train),\n",
    "                                   batch_size=batch_size, \n",
    "                                   shuffle=True\n",
    ")\n",
    "valid_loader = torch.utils.data.DataLoader(\n",
    "                                   Class_Dataset(Data_val, Cls_val),\n",
    "                                   batch_size=batch_size, \n",
    "                                   shuffle=False\n",
    ")\n",
    "\n",
    "test_loader = torch.utils.data.DataLoader(\n",
    "                                   Class_Dataset(Data_test, Cls_test), \n",
    "                                   batch_size=1,\n",
    "                                   shuffle=False\n",
    ")\n",
    "\n",
    "\n",
    "# if args.mode == 'train':\n",
    "#     dataloaders = {'train': train_loader,\n",
    "#                    'val': valid_loader,\n",
    "#                   }\n",
    "# else:\n",
    "#     dataloaders = {\n",
    "#                    'test': test_loader,\n",
    "#                   }"
   ]
  },
  {
   "cell_type": "code",
   "execution_count": null,
   "id": "ebb474d0-6084-4eaa-9ecb-1f3a30e1142b",
   "metadata": {},
   "outputs": [],
   "source": [
    "torch.save(test_loader,'test_loader_meat')"
   ]
  },
  {
   "cell_type": "code",
   "execution_count": null,
   "id": "0d9f4a5f-5426-4b7e-826a-5cbe5ae17fe5",
   "metadata": {},
   "outputs": [],
   "source": []
  },
  {
   "cell_type": "code",
   "execution_count": null,
   "id": "84ace41a-66a5-4da5-ba17-d891f70f5761",
   "metadata": {},
   "outputs": [],
   "source": [
    "def flatten_kernel_parameters(kernel):\n",
    "    p_shapes = []\n",
    "    flat_parameters = []\n",
    "    for p in kernel.parameters():\n",
    "        p_shapes.append(p.size())\n",
    "        flat_parameters.append(p.flatten())\n",
    "    return torch.cat(flat_parameters)"
   ]
  },
  {
   "cell_type": "code",
   "execution_count": null,
   "id": "484bd4bb-9cc0-4cd6-93aa-bbcdf194b103",
   "metadata": {},
   "outputs": [],
   "source": [
    "flatten_kernel_parameters(model).shape[0] + flatten_kernel_parameters(encoder).shape[0]"
   ]
  },
  {
   "cell_type": "code",
   "execution_count": null,
   "id": "cc118d81-47c5-480d-9fed-ce2c815ac5ba",
   "metadata": {},
   "outputs": [],
   "source": []
  },
  {
   "cell_type": "code",
   "execution_count": null,
   "id": "69b0ffae-abf2-4126-bf80-951d92f40447",
   "metadata": {},
   "outputs": [],
   "source": [
    "patience = 50\n",
    "factor = 0.5"
   ]
  },
  {
   "cell_type": "code",
   "execution_count": null,
   "id": "7c1133dd-4bdb-4358-a47b-71ed29baa101",
   "metadata": {},
   "outputs": [],
   "source": [
    "All_parameters = list(model.parameters()) + list(encoder.parameters())\n",
    "optimizer = torch.optim.Adam(All_parameters, lr=1e-3, weight_decay=1e-4)\n",
    "criterion = nn.CrossEntropyLoss()\n",
    "scheduler = \\\n",
    "torch.optim.lr_scheduler.CosineAnnealingLR(optimizer, T_max=101, eta_min=1e-7)\n",
    "#torch.optim.lr_scheduler.ReduceLROnPlateau(optimizer, patience=patience, min_lr=1e-9,factor=factor)\n",
    "warmup = 7"
   ]
  },
  {
   "cell_type": "code",
   "execution_count": null,
   "id": "6c8fe913-f149-4d85-95d7-aa1e6b62c05b",
   "metadata": {},
   "outputs": [],
   "source": []
  },
  {
   "cell_type": "code",
   "execution_count": null,
   "id": "9ad1bfd3-249e-415b-a653-ba1ba50cd530",
   "metadata": {},
   "outputs": [],
   "source": [
    "epochs = 3000"
   ]
  },
  {
   "cell_type": "code",
   "execution_count": null,
   "id": "f4c37dd2-f233-4c03-8bd7-9734dd44b006",
   "metadata": {},
   "outputs": [],
   "source": [
    "len(train_loader)"
   ]
  },
  {
   "cell_type": "code",
   "execution_count": null,
   "id": "aada2a20-cd4a-4951-9f01-ca5700f657d0",
   "metadata": {},
   "outputs": [],
   "source": []
  },
  {
   "cell_type": "code",
   "execution_count": null,
   "id": "5a506788-8b0c-4c52-b5dc-ddf26bab5310",
   "metadata": {
    "scrolled": true
   },
   "outputs": [],
   "source": [
    "verbose = False\n",
    "losses = []\n",
    "best_loss = np.inf\n",
    "all_val_loss = []\n",
    "\n",
    "for i in range(epochs):\n",
    "    print(\"Epoch:\", i)\n",
    "    \n",
    "    tot_loss = 0.\n",
    "    counter = 0\n",
    "    for  spectra, labels in tqdm(train_loader):\n",
    "\n",
    "        if verbose: print(spectra.shape)\n",
    "        spectra = spectra\n",
    "        if verbose: print(spectra.shape)\n",
    "        \n",
    "        encoded = encoder(spectra.permute(0,2,1)).permute(0,2,1)\n",
    "        \n",
    "        inputs, x = encoded[...,:-1], encoded[:,-1,-1:]\n",
    "        \n",
    "        outputs = model(inputs,x)\n",
    "        \n",
    "        loss = criterion(outputs, labels.to(device))\n",
    "        \n",
    "        optimizer.zero_grad()\n",
    "        loss.backward()\n",
    "        optimizer.step()\n",
    "        \n",
    "        tot_loss += loss.item()\n",
    "        counter += 1\n",
    "\n",
    "        if verbose and i % 20 == 0:\n",
    "            print(loss.item())\n",
    "    \n",
    "    losses.append(tot_loss/counter)\n",
    "\n",
    "\n",
    "    with torch.no_grad():\n",
    "        counter = 0\n",
    "        val_loss = 0.\n",
    "    for  spectra, labels in tqdm(valid_loader):\n",
    "\n",
    "        if verbose: print(spectra.shape)\n",
    "        spectra = spectra\n",
    "        if verbose: print(spectra.shape)\n",
    "\n",
    "        encoded = encoder(spectra.permute(0,2,1)).permute(0,2,1)\n",
    "        inputs, x = encoded[...,:-1], encoded[:,-1,-1:]\n",
    "        outputs = model(inputs,x)\n",
    "        \n",
    "        loss_validation = criterion(outputs, labels.to(device))\n",
    "\n",
    "        counter += 1\n",
    "        val_loss += loss_validation.item()\n",
    "        \n",
    "\n",
    "    if i > warmup:\n",
    "        scheduler.step(val_loss/counter)\n",
    "    all_val_loss.append(val_loss/counter)  \n",
    "\n",
    "    plt.figure(0, figsize=(8,8),facecolor='w')           \n",
    "    plt.plot(np.log10(losses),label='Train loss')\n",
    "    plt.plot(np.log10(all_val_loss),label='Val loss')\n",
    "    plt.xlabel(\"Epoch\")\n",
    "    plt.ylabel(\"MSE Loss\")\n",
    "    plt.legend()\n",
    "    plt.savefig('losses')\n",
    "    plt.close()\n",
    "\n",
    "\n",
    "    if all_val_loss[-1] < best_loss:\n",
    "        print('Saving for epoch: ', i, all_val_loss[-1])\n",
    "        torch.save(G,'kernel')\n",
    "        torch.save(encoder,'encoder')\n",
    "        best_loss = all_val_loss[-1]"
   ]
  },
  {
   "cell_type": "code",
   "execution_count": null,
   "id": "47d2a5b5-15ac-46b7-b726-6113371dd75b",
   "metadata": {},
   "outputs": [],
   "source": []
  },
  {
   "cell_type": "code",
   "execution_count": null,
   "id": "ccd78183-f5d5-4657-908e-b7c9a028bb48",
   "metadata": {},
   "outputs": [],
   "source": [
    "test_loader = torch.load('test_loader_meat')"
   ]
  },
  {
   "cell_type": "code",
   "execution_count": null,
   "id": "9fd80b44-aca9-45ef-b209-24014056e973",
   "metadata": {},
   "outputs": [],
   "source": [
    "len(test_loader)"
   ]
  },
  {
   "cell_type": "code",
   "execution_count": null,
   "id": "5f2d77cd-b514-48a1-a8e8-cbd96ba1129a",
   "metadata": {},
   "outputs": [],
   "source": []
  },
  {
   "cell_type": "code",
   "execution_count": null,
   "id": "7b75903c-0960-456e-96fd-f13d1d68bf44",
   "metadata": {},
   "outputs": [],
   "source": [
    "G = torch.load('kernel').to(device)\n",
    "encoder = torch.load('encoder').to(device)"
   ]
  },
  {
   "cell_type": "code",
   "execution_count": null,
   "id": "74b2506d-b10a-4336-ac86-afe79c4d0911",
   "metadata": {},
   "outputs": [],
   "source": [
    "model = integral_operator(dim, times, G, mc, num_internal_points=times.shape[0],mc_samplings=5000).to(device)"
   ]
  },
  {
   "cell_type": "code",
   "execution_count": null,
   "id": "2a905a21-4644-4f9a-8b35-12781c505dba",
   "metadata": {},
   "outputs": [],
   "source": [
    "tot_predicted = torch.tensor([]).to(device)\n",
    "tot_labels = torch.tensor([]).to(device)\n",
    "tot_outputs = torch.tensor([]).to(device)\n",
    "with torch.no_grad():\n",
    "    n_correct = 0\n",
    "    n_samples = 0\n",
    "    for spectra, labels in tqdm(test_loader):\n",
    "        spectra = spectra\n",
    "\n",
    "        encoded = encoder(spectra.permute(0,2,1)).permute(0,2,1)\n",
    "        inputs, x = encoded[...,:-1], encoded[:,-1,-1:]\n",
    "        outputs = model(inputs,x)\n",
    "        tot_outputs = torch.cat([tot_outputs,outputs],0)\n",
    "        \n",
    "        _, predicted = torch.max(outputs.data, 1)\n",
    "        n_samples += labels.size(0)\n",
    "        n_correct += (predicted == labels.to(device)).sum().item() \n",
    "        \n",
    "        tot_predicted = torch.cat([tot_predicted,predicted], dim=0)\n",
    "        tot_labels = torch.cat([tot_labels, labels.to(device)], dim=0)\n",
    "\n",
    "    acc = 100.0 * n_correct / n_samples\n",
    "    print(f'Accuracy: {acc} %')"
   ]
  },
  {
   "cell_type": "code",
   "execution_count": null,
   "id": "90c08db6-825a-45fb-96a0-358c55f33c1e",
   "metadata": {},
   "outputs": [],
   "source": []
  },
  {
   "cell_type": "code",
   "execution_count": null,
   "id": "39987d59-94b2-4382-ae76-81c0e0f3ff71",
   "metadata": {},
   "outputs": [],
   "source": [
    "softmax = torch.nn.Softmax(dim=1)"
   ]
  },
  {
   "cell_type": "code",
   "execution_count": null,
   "id": "44922692-b20b-48f7-b8ee-ff05bb6582e2",
   "metadata": {
    "scrolled": true
   },
   "outputs": [],
   "source": [
    "softmax(tot_outputs)"
   ]
  },
  {
   "cell_type": "code",
   "execution_count": null,
   "id": "455c69ef-a1b3-46c2-8286-a7d440fcfa12",
   "metadata": {},
   "outputs": [],
   "source": []
  },
  {
   "cell_type": "code",
   "execution_count": null,
   "id": "57f0851c-8c0b-44c0-9cfd-a5717c72175f",
   "metadata": {},
   "outputs": [],
   "source": [
    "from sklearn.metrics import classification_report\n",
    "classification_report(tot_labels.cpu(),tot_predicted.cpu())"
   ]
  },
  {
   "cell_type": "code",
   "execution_count": null,
   "id": "a9db41d9-bcdf-4712-ab74-a34e22e5940b",
   "metadata": {},
   "outputs": [],
   "source": []
  },
  {
   "cell_type": "code",
   "execution_count": null,
   "id": "c6352079-dd52-4bb1-b61c-14ded6b52141",
   "metadata": {},
   "outputs": [],
   "source": []
  },
  {
   "cell_type": "code",
   "execution_count": null,
   "id": "1116e580-6628-411d-a291-928165f533b4",
   "metadata": {},
   "outputs": [],
   "source": []
  }
 ],
 "metadata": {
  "kernelspec": {
   "display_name": "spectrometry_kernel",
   "language": "python",
   "name": "spectrometry_kernel"
  },
  "language_info": {
   "codemirror_mode": {
    "name": "ipython",
    "version": 3
   },
   "file_extension": ".py",
   "mimetype": "text/x-python",
   "name": "python",
   "nbconvert_exporter": "python",
   "pygments_lexer": "ipython3",
   "version": "3.10.9"
  }
 },
 "nbformat": 4,
 "nbformat_minor": 5
}
